{
 "cells": [
  {
   "cell_type": "code",
   "execution_count": 2,
   "id": "2a25e871-c63d-47c7-9443-872d53c00dce",
   "metadata": {},
   "outputs": [],
   "source": [
    "# Import the CARLA Python API library and some utils\n",
    "import carla \n",
    "import math \n",
    "import random \n",
    "import time "
   ]
  },
  {
   "cell_type": "code",
   "execution_count": 3,
   "id": "2c9101e5",
   "metadata": {},
   "outputs": [],
   "source": [
    "client = carla.Client('localhost', 2000)\n",
    "world = client.get_world()"
   ]
  },
  {
   "cell_type": "code",
   "execution_count": 4,
   "id": "42a1ddcc-d6df-4bbd-b904-15ed03739766",
   "metadata": {},
   "outputs": [],
   "source": [
    "# Get the blueprint library and the spawn points for the map\n",
    "bp_lib = world.get_blueprint_library() \n",
    "spawn_points = world.get_map().get_spawn_points() "
   ]
  },
  {
   "cell_type": "code",
   "execution_count": 5,
   "id": "71e73030-a065-4ac8-9bdb-dba8006d68d7",
   "metadata": {},
   "outputs": [],
   "source": [
    "# Get the blueprint for the vehicle you want\n",
    "vehicle_bp = bp_lib.find('vehicle.lincoln.mkz_2020') \n",
    "\n",
    "# Try spawning the vehicle at a randomly chosen spawn point\n",
    "vehicle = world.try_spawn_actor(vehicle_bp, random.choice(spawn_points))"
   ]
  },
  {
   "cell_type": "code",
   "execution_count": 7,
   "id": "c765d8ae-09cb-4790-aeaf-802626753d9e",
   "metadata": {},
   "outputs": [],
   "source": [
    "# Move the spectator behind the vehicle \n",
    "spectator = world.get_spectator() \n",
    "transform = carla.Transform(vehicle.get_transform().transform(carla.Location(x=-4,z=2.5)),vehicle.get_transform().rotation) \n",
    "spectator.set_transform(transform) "
   ]
  },
  {
   "cell_type": "code",
   "execution_count": 8,
   "id": "e27a72f9-ada0-43a2-8f73-037d974b915a",
   "metadata": {},
   "outputs": [],
   "source": [
    "# Add traffic to the simulation\n",
    "for i in range(30): \n",
    "    vehicle_bp = random.choice(bp_lib.filter('vehicle')) \n",
    "    npc = world.try_spawn_actor(vehicle_bp, random.choice(spawn_points)) "
   ]
  },
  {
   "cell_type": "code",
   "execution_count": 9,
   "id": "6fac134a-68c5-42b0-a2a7-f344e6a17d8c",
   "metadata": {},
   "outputs": [],
   "source": [
    "# Set the all vehicles in motion using the Traffic Manager\n",
    "for v in world.get_actors().filter('*vehicle*'): \n",
    "    v.set_autopilot(True) "
   ]
  },
  {
   "cell_type": "code",
   "execution_count": 10,
   "id": "9e5c08a2",
   "metadata": {},
   "outputs": [],
   "source": [
    "blueprint = world.get_blueprint_library().find('sensor.other.imu')\n",
    "\n",
    "imu_location = carla.Location(x=0.0, y=0.0, z=1.0)\n",
    "imu_rotation = carla.Rotation(pitch=0.0, roll=0.0, yaw=0.0)\n",
    "imu_transform = carla.Transform(imu_location, imu_rotation)\n",
    "imu_sensor = world.spawn_actor(blueprint, imu_transform, attach_to=vehicle)"
   ]
  },
  {
   "cell_type": "code",
   "execution_count": 11,
   "id": "8994cc5c",
   "metadata": {},
   "outputs": [],
   "source": [
    "def imu_callback(imu_data):\n",
    "    linear_acceleration = imu_data.accelerometer\n",
    "    angular_velocity = imu_data.gyroscope\n",
    "    orientation = imu_data.compass\n",
    "\n",
    "    # Write IMU data to file\n",
    "    with open('imu_data.txt', 'a') as file:\n",
    "        file.write(f'time: {imu_data.timestamp}, x-acceleration: {imu_data.accelerometer.x}, y-acceleration : {imu_data.accelerometer.y}, z-acceleration : {imu_data.accelerometer.z}\\n')\n",
    "        \n",
    "imu_sensor.listen(imu_callback)"
   ]
  },
  {
   "cell_type": "code",
   "execution_count": 12,
   "id": "2564c4bd",
   "metadata": {},
   "outputs": [
    {
     "data": {
      "text/plain": [
       "True"
      ]
     },
     "execution_count": 12,
     "metadata": {},
     "output_type": "execute_result"
    }
   ],
   "source": [
    "imu_sensor.destroy()"
   ]
  },
  {
   "cell_type": "code",
   "execution_count": 13,
   "id": "4992ea15-fe90-4262-aad8-382ca2d9247e",
   "metadata": {},
   "outputs": [
    {
     "data": {
      "text/plain": [
       "<carla.libcarla.World at 0x1c999c7f7a0>"
      ]
     },
     "execution_count": 13,
     "metadata": {},
     "output_type": "execute_result"
    },
    {
     "ename": "",
     "evalue": "",
     "output_type": "error",
     "traceback": [
      "\u001b[1;31mThe Kernel crashed while executing code in the the current cell or a previous cell. Please review the code in the cell(s) to identify a possible cause of the failure. Click <a href='https://aka.ms/vscodeJupyterKernelCrash'>here</a> for more info. View Jupyter <a href='command:jupyter.viewOutput'>log</a> for further details."
     ]
    }
   ],
   "source": [
    "client.reload_world()"
   ]
  }
 ],
 "metadata": {
  "kernelspec": {
   "display_name": "Python 3 (ipykernel)",
   "language": "python",
   "name": "python3"
  },
  "language_info": {
   "codemirror_mode": {
    "name": "ipython",
    "version": 3
   },
   "file_extension": ".py",
   "mimetype": "text/x-python",
   "name": "python",
   "nbconvert_exporter": "python",
   "pygments_lexer": "ipython3",
   "version": "3.7.9"
  },
  "toc-showcode": true
 },
 "nbformat": 4,
 "nbformat_minor": 5
}
